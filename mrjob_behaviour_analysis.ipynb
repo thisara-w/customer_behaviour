{
 "cells": [
  {
   "cell_type": "markdown",
   "id": "fdcd7ea2-3d48-4a38-9421-c9c15920df4d",
   "metadata": {},
   "source": [
    "# Analyse Customer Behaviour in a Multi Category e-Commerce Website\n",
    "The dataset contains customer behaviour data of a large multi category e-commerce website. The customer behaviour is reflected in the `event_type` field which is either view, cart or purchase. Each row in the file represents an event. All events are related to products and users. Each event is like many-to-many relation between products and users. This exercise uses the 2019 October dataset published in Kaggle https://www.kaggle.com/datasets/mkechinov/ecommerce-behavior-data-from-multi-category-store. The dataset originally collected from Open CDP https://rees46.com/en/open-cdp. \n",
    "\n",
    "The selected dataset is approximately 5Gb in volume which makes data processing a difficult in our usual RStudio or Colab environment. Therefore, we need to move into a big data technology to process this dataset. In this exercise, we run the exerecise in a Hadoop run on a cloud environment with MapReduce. MapReduce programs are natively support by Java. However, `mrjob` package in python provides a `hadoop streaming` interface where we can write mapreduce programs using python. Another benifit of using `mrjob` is its ability to include multiple mappers and reducers in the same program. "
   ]
  },
  {
   "cell_type": "markdown",
   "id": "398bb81d-7548-40d3-b801-d20717e78729",
   "metadata": {},
   "source": [
    "## 1. Install `mrjob`"
   ]
  },
  {
   "cell_type": "code",
   "execution_count": 1,
   "id": "fe25c585-957e-4349-8ce6-675eacfb1cf1",
   "metadata": {},
   "outputs": [
    {
     "name": "stdout",
     "output_type": "stream",
     "text": [
      "Requirement already satisfied: mrjob in /opt/conda/lib/python3.9/site-packages (0.7.4)\n",
      "Requirement already satisfied: PyYAML>=3.10 in /opt/conda/lib/python3.9/site-packages (from mrjob) (6.0)\n"
     ]
    }
   ],
   "source": [
    "! pip install mrjob"
   ]
  },
  {
   "cell_type": "markdown",
   "id": "03482fd8-4497-4dd6-949b-25f99f93a028",
   "metadata": {},
   "source": [
    "## Exercise 01\n",
    "Using python `mrjob` package write a mapReduce programs to get the below results.\n",
    "\n",
    "    1. Total value of customer behaviour by event type.\n",
    "    2. Top 10 brands purchased by value\n",
    "    3. Top 10 brands purchased by volume"
   ]
  },
  {
   "cell_type": "code",
   "execution_count": 2,
   "id": "de7f0bf3-8e56-4eeb-a1b7-5ba64028f101",
   "metadata": {},
   "outputs": [
    {
     "name": "stdout",
     "output_type": "stream",
     "text": [
      "Writing /home/jovyan/customer_behaviour/mrjobs/value_by_event_type.py\n"
     ]
    }
   ],
   "source": [
    "%%file ~/customer_behaviour/mrjobs/value_by_event_type.py\n",
    "from mrjob.job import MRJob\n",
    "\n",
    "class MapperReducer(MRJob):\n",
    "\n",
    "    def mapper(self, _, line):\n",
    "        row = line.split(',')\n",
    "        event_type = row[1]      \n",
    "        try:\n",
    "            price = float(row[6])\n",
    "        except ValueError:\n",
    "            b'skipping line'\n",
    "        else:\n",
    "            yield(event_type,price)\n",
    "        \n",
    "    def reducer(self, event_type, value):\n",
    "        yield(event_type, sum(value))\n",
    "\n",
    "if __name__ == '__main__':\n",
    "    MapperReducer.run()"
   ]
  },
  {
   "cell_type": "code",
   "execution_count": 3,
   "id": "bf0fc604-176a-4050-86cf-04b9fd9bea0f",
   "metadata": {},
   "outputs": [
    {
     "name": "stdout",
     "output_type": "stream",
     "text": [
      "No configs found; falling back on auto-configuration\n",
      "No configs specified for inline runner\n",
      "Creating temp directory /tmp/value_by_event_type.jovyan.20221220.135454.600920\n",
      "Running step 1 of 1...\n",
      "job output is in /tmp/value_by_event_type.jovyan.20221220.135454.600920/output\n",
      "Streaming final output from /tmp/value_by_event_type.jovyan.20221220.135454.600920/output...\n",
      "Removing temp directory /tmp/value_by_event_type.jovyan.20221220.135454.600920...\n"
     ]
    }
   ],
   "source": [
    "! python ~/mrjobs/value_by_event_type.py sample.csv > ~/customer_behaviour/mrjobs/output/output_1_1.txt"
   ]
  },
  {
   "cell_type": "code",
   "execution_count": 4,
   "id": "fcfb4be7-e439-4e25-b1bc-d0cbdf76bb29",
   "metadata": {},
   "outputs": [
    {
     "name": "stdout",
     "output_type": "stream",
     "text": [
      "Writing /home/jovyan/customer_behaviour/mrjobs/top_brands_value.py\n"
     ]
    }
   ],
   "source": [
    "%%file ~/customer_behaviour/mrjobs/top_brands_value.py\n",
    "from mrjob.job import MRJob\n",
    "from mrjob.step import MRStep\n",
    "\n",
    "class MapperReducer(MRJob):\n",
    "    MRJob.SORT_VALUES = True\n",
    "    def steps(self):\n",
    "        return [\n",
    "            MRStep(\n",
    "                mapper=self.mapper, \n",
    "                reducer=self.reducer_sum\n",
    "            )\n",
    "            ,\n",
    "            MRStep(\n",
    "                mapper=self.mapper_sort\n",
    "                ,reducer=self.reducer_sort\n",
    "            )\n",
    "        ]\n",
    "    def mapper(self, _, line):\n",
    "        row = line.split(',')\n",
    "        brand = row[5]      \n",
    "        try:\n",
    "            price = float(row[6])\n",
    "        except ValueError:\n",
    "            b'skipping line'\n",
    "        else:\n",
    "            yield brand, price        \n",
    "            \n",
    "    def reducer_sum(self, brand, price):\n",
    "        yield brand, sum(price)\n",
    "        \n",
    "    def mapper_sort(self, brand, total):\n",
    "        yield None, (\"%9.02f\"%(float(total)), brand)\n",
    "        \n",
    "    def reducer_sort(self, n, brand_value):\n",
    "        for c in brand_value:\n",
    "            yield c[0], c[1]\n",
    "\n",
    "if __name__ == '__main__':\n",
    "    MapperReducer.run()"
   ]
  },
  {
   "cell_type": "code",
   "execution_count": 5,
   "id": "d421842f-d921-4885-8fda-c0b8cf7b4297",
   "metadata": {},
   "outputs": [
    {
     "name": "stdout",
     "output_type": "stream",
     "text": [
      "No configs found; falling back on auto-configuration\n",
      "No configs specified for inline runner\n",
      "Creating temp directory /tmp/top_brands_value.jovyan.20221220.135456.326718\n",
      "Running step 1 of 2...\n",
      "Running step 2 of 2...\n",
      "job output is in /tmp/top_brands_value.jovyan.20221220.135456.326718/output\n",
      "Streaming final output from /tmp/top_brands_value.jovyan.20221220.135456.326718/output...\n",
      "Removing temp directory /tmp/top_brands_value.jovyan.20221220.135456.326718...\n"
     ]
    }
   ],
   "source": [
    "! python ~/customer_behaviour/mrjobs/top_brands_value.py sample.csv > ~/customer_behaviour/mrjobs/output/output_1_2.txt"
   ]
  },
  {
   "cell_type": "code",
   "execution_count": 6,
   "id": "64114690-fdfe-4b33-9422-626b501b62fb",
   "metadata": {},
   "outputs": [
    {
     "name": "stdout",
     "output_type": "stream",
     "text": [
      "Writing /home/jovyan/customer_behaviour/mrjobs/top_brands_volume.py\n"
     ]
    }
   ],
   "source": [
    "%%file ~/customer_behaviour/mrjobs/top_brands_volume.py\n",
    "from mrjob.job import MRJob\n",
    "from mrjob.step import MRStep\n",
    "\n",
    "class MapperReducer(MRJob):\n",
    "    MRJob.SORT_VALUES = True\n",
    "    def steps(self):\n",
    "        return [\n",
    "            MRStep(\n",
    "                mapper=self.mapper, \n",
    "                reducer=self.reducer_sum\n",
    "            )\n",
    "            ,\n",
    "            MRStep(\n",
    "                mapper=self.mapper_sort\n",
    "                ,reducer=self.reducer_sort\n",
    "            )\n",
    "        ]\n",
    "    def mapper(self, _, line):\n",
    "        row = line.split(',')\n",
    "        brand = row[5]      \n",
    "        try:\n",
    "            price = float(row[6])\n",
    "        except ValueError:\n",
    "            b'skipping line'\n",
    "        else:\n",
    "            yield brand, 1        \n",
    "            \n",
    "    def reducer_sum(self, brand, count):\n",
    "        yield brand, sum(count)\n",
    "        \n",
    "    def mapper_sort(self, brand, count):\n",
    "        yield None, (\"%9.02f\"%(float(count)), brand)\n",
    "        \n",
    "    def reducer_sort(self, n, brand_volume):\n",
    "        for c in brand_volume:\n",
    "            yield c[0], c[1]\n",
    "\n",
    "if __name__ == '__main__':\n",
    "    MapperReducer.run()"
   ]
  },
  {
   "cell_type": "code",
   "execution_count": 7,
   "id": "facd0774-5a55-481f-b24f-dea88e58498c",
   "metadata": {},
   "outputs": [
    {
     "name": "stdout",
     "output_type": "stream",
     "text": [
      "No configs found; falling back on auto-configuration\n",
      "No configs specified for inline runner\n",
      "Creating temp directory /tmp/top_brands_volume.jovyan.20221220.135458.244386\n",
      "Running step 1 of 2...\n",
      "Running step 2 of 2...\n",
      "job output is in /tmp/top_brands_volume.jovyan.20221220.135458.244386/output\n",
      "Streaming final output from /tmp/top_brands_volume.jovyan.20221220.135458.244386/output...\n",
      "Removing temp directory /tmp/top_brands_volume.jovyan.20221220.135458.244386...\n"
     ]
    }
   ],
   "source": [
    "! python ~/customer_behaviour/mrjobs/top_brands_volume.py sample.csv > ~/customer_behaviour/mrjobs/output/output_1_3.txt"
   ]
  },
  {
   "cell_type": "markdown",
   "id": "a5b01a1e-81fb-4479-95f2-97a2b039e22f",
   "metadata": {},
   "source": [
    "## Exercise 02\n",
    "\n",
    "The `category_code` variable includes the product category and sub-categories deliemeted by a `.`. Using a string manipulation, extract the following query results.\n",
    "\n",
    "1. Highest value category\n",
    "3. Top product categories by value\n",
    "4. Top product categories by volume"
   ]
  },
  {
   "cell_type": "code",
   "execution_count": 8,
   "id": "dca0d5cf-b8d0-42e6-829a-9e931c6969fd",
   "metadata": {},
   "outputs": [
    {
     "name": "stdout",
     "output_type": "stream",
     "text": [
      "Writing /home/jovyan/customer_behaviour/mrjobs/max_category.py\n"
     ]
    }
   ],
   "source": [
    "%%file ~/customer_behaviour/mrjobs/max_category.py\n",
    "from mrjob.job import MRJob\n",
    "from mrjob.step import MRStep\n",
    "\n",
    "class MapperReducer(MRJob):\n",
    "    \n",
    "    def steps(self):\n",
    "        return [\n",
    "            MRStep(\n",
    "                mapper=self.mapper \n",
    "                ,reducer=self.reducer_sum\n",
    "            )\n",
    "            ,\n",
    "            MRStep(\n",
    "                reducer=self.reducer_max\n",
    "            )\n",
    "        ]\n",
    "    def mapper(self, _, line):\n",
    "        row = line.split(',')\n",
    "        category = row[4].split('.')[0]      \n",
    "        try:\n",
    "            price = float(row[6])\n",
    "        except ValueError:\n",
    "            b'skipping line'\n",
    "        else:\n",
    "            yield category, price        \n",
    "            \n",
    "    def reducer_sum(self, category, value):\n",
    "        yield None, (sum(value), category)\n",
    "        \n",
    "    def reducer_max(self, _, value):\n",
    "        yield max(value)\n",
    "        \n",
    "\n",
    "if __name__ == '__main__':\n",
    "    MapperReducer.run()"
   ]
  },
  {
   "cell_type": "code",
   "execution_count": 9,
   "id": "ab6c3abe-0a5c-4b53-9ef4-0850077f3830",
   "metadata": {},
   "outputs": [
    {
     "name": "stdout",
     "output_type": "stream",
     "text": [
      "No configs found; falling back on auto-configuration\n",
      "No configs specified for inline runner\n",
      "Creating temp directory /tmp/max_category.jovyan.20221220.135500.132179\n",
      "Running step 1 of 2...\n",
      "Running step 2 of 2...\n",
      "job output is in /tmp/max_category.jovyan.20221220.135500.132179/output\n",
      "Streaming final output from /tmp/max_category.jovyan.20221220.135500.132179/output...\n",
      "Removing temp directory /tmp/max_category.jovyan.20221220.135500.132179...\n"
     ]
    }
   ],
   "source": [
    "! python ~/customer_behaviour/mrjobs/max_category.py sample.csv > ~/customer_behaviour/mrjobs/output/output_2_1.txt"
   ]
  },
  {
   "cell_type": "code",
   "execution_count": 10,
   "id": "cdc986a9-dbf2-49ee-822a-ec1e719df71b",
   "metadata": {},
   "outputs": [
    {
     "name": "stdout",
     "output_type": "stream",
     "text": [
      "Writing /home/jovyan/customer_behaviour/mrjobs/product_category_value.py\n"
     ]
    }
   ],
   "source": [
    "%%file ~/customer_behaviour/mrjobs/product_category_value.py\n",
    "from mrjob.job import MRJob\n",
    "from mrjob.step import MRStep\n",
    "\n",
    "class MapperReducer(MRJob):\n",
    "    MRJob.SORT_VALUES = True\n",
    "    def steps(self):\n",
    "        return [\n",
    "            MRStep(\n",
    "                mapper=self.mapper \n",
    "                ,reducer=self.reducer_sum\n",
    "            )\n",
    "            ,\n",
    "            MRStep(\n",
    "                mapper=self.mapper_sort\n",
    "                ,reducer=self.reducer_sort\n",
    "            )\n",
    "        ]\n",
    "    def mapper(self, _, line):\n",
    "        row = line.split(',')\n",
    "        category = row[4].split('.')[0]      \n",
    "        try:\n",
    "            price = float(row[6])\n",
    "        except ValueError:\n",
    "            b'skipping line'\n",
    "        else:\n",
    "            yield category, price        \n",
    "            \n",
    "    def reducer_sum(self, category, price):\n",
    "        yield category, sum(price)\n",
    "        \n",
    "    def mapper_sort(self, category, value):\n",
    "        yield None, (\"%12.02f\"%(float(value)), category)\n",
    "        \n",
    "    def reducer_sort(self, n, cat_value):\n",
    "        for c in cat_value:\n",
    "            yield c[0], c[1]\n",
    "\n",
    "if __name__ == '__main__':\n",
    "    MapperReducer.run()"
   ]
  },
  {
   "cell_type": "code",
   "execution_count": 11,
   "id": "07056776-c62a-4f2a-8cac-eb01c9560027",
   "metadata": {},
   "outputs": [
    {
     "name": "stdout",
     "output_type": "stream",
     "text": [
      "No configs found; falling back on auto-configuration\n",
      "No configs specified for inline runner\n",
      "Creating temp directory /tmp/product_category_value.jovyan.20221220.135501.980377\n",
      "Running step 1 of 2...\n",
      "Running step 2 of 2...\n",
      "job output is in /tmp/product_category_value.jovyan.20221220.135501.980377/output\n",
      "Streaming final output from /tmp/product_category_value.jovyan.20221220.135501.980377/output...\n",
      "Removing temp directory /tmp/product_category_value.jovyan.20221220.135501.980377...\n"
     ]
    }
   ],
   "source": [
    "! python ~/customer_behaviour/mrjobs/product_category_value.py sample.csv > ~/customer_behaviour/mrjobs/output/output_2_2.txt"
   ]
  },
  {
   "cell_type": "code",
   "execution_count": 12,
   "id": "a6c72c9a-7419-41af-9bfc-749eb37e588a",
   "metadata": {},
   "outputs": [
    {
     "name": "stdout",
     "output_type": "stream",
     "text": [
      "Writing /home/jovyan/customer_behaviour/mrjobs/product_category_volume.py\n"
     ]
    }
   ],
   "source": [
    "%%file ~/customer_behaviour/mrjobs/product_category_volume.py\n",
    "from mrjob.job import MRJob\n",
    "from mrjob.step import MRStep\n",
    "\n",
    "class MapperReducer(MRJob):\n",
    "    MRJob.SORT_VALUES = True\n",
    "    def steps(self):\n",
    "        return [\n",
    "            MRStep(\n",
    "                mapper=self.mapper \n",
    "                ,reducer=self.reducer_sum\n",
    "            )\n",
    "            ,\n",
    "            MRStep(\n",
    "                mapper=self.mapper_sort\n",
    "                ,reducer=self.reducer_sort\n",
    "            )\n",
    "        ]\n",
    "    def mapper(self, _, line):\n",
    "        row = line.split(',')\n",
    "        category = row[4].split('.')[0]      \n",
    "        try:\n",
    "            price = float(row[6])\n",
    "        except ValueError:\n",
    "            b'skipping line'\n",
    "        else:\n",
    "            yield category, 1        \n",
    "            \n",
    "    def reducer_sum(self, category, count):\n",
    "        yield category, sum(count)\n",
    "        \n",
    "    def mapper_sort(self, category, count):\n",
    "        yield None, (\"%7.02f\"%(float(count)), category)\n",
    "        \n",
    "    def reducer_sort(self, n, cat_volume):\n",
    "        for c in cat_volume:\n",
    "            yield c[0], c[1]\n",
    "\n",
    "if __name__ == '__main__':\n",
    "    MapperReducer.run()"
   ]
  },
  {
   "cell_type": "code",
   "execution_count": 13,
   "id": "80915886-3b29-4e46-ad73-c0b9968137cc",
   "metadata": {},
   "outputs": [
    {
     "name": "stdout",
     "output_type": "stream",
     "text": [
      "No configs found; falling back on auto-configuration\n",
      "No configs specified for inline runner\n",
      "Creating temp directory /tmp/product_category_volume.jovyan.20221220.135503.769489\n",
      "Running step 1 of 2...\n",
      "Running step 2 of 2...\n",
      "job output is in /tmp/product_category_volume.jovyan.20221220.135503.769489/output\n",
      "Streaming final output from /tmp/product_category_volume.jovyan.20221220.135503.769489/output...\n",
      "Removing temp directory /tmp/product_category_volume.jovyan.20221220.135503.769489...\n"
     ]
    }
   ],
   "source": [
    "! python ~/customer_behaviour/mrjobs/product_category_volume.py sample.csv > ~/customer_behaviour/mrjobs/output/output_2_3.txt"
   ]
  },
  {
   "cell_type": "markdown",
   "id": "69f8eeb5-74ad-432b-9ea3-ee9e56da5fd8",
   "metadata": {},
   "source": [
    "## Exercise 03\n",
    "The dataset includes items viewed by the users. This can be identified using the `event_type`. The company wants to analyse the daily view pattern during the month. First we need to generate the date from the timestamp value. Then the company requires us to generate the following query results.\n",
    "\n",
    "1. Create daily view pattern of apple products\n",
    "2. Visualise the timeseries using a line chart\n",
    "3. Compare the view patterns of apple vs samsung\n",
    "4. Compare the two frequency distributions"
   ]
  },
  {
   "cell_type": "code",
   "execution_count": 14,
   "id": "1c7b25e9-ab63-4290-89d9-48cf1353236f",
   "metadata": {},
   "outputs": [
    {
     "name": "stdout",
     "output_type": "stream",
     "text": [
      "Writing /home/jovyan/customer_behaviour/mrjobs/apple_views.py\n"
     ]
    }
   ],
   "source": [
    "%%file ~/customer_behaviour/mrjobs/apple_views.py\n",
    "from mrjob.job import MRJob\n",
    "from mrjob.step import MRStep\n",
    "\n",
    "class MapperReducer(MRJob):\n",
    "    MRJob.SORT_VALUES = True\n",
    "    def steps(self):\n",
    "        return [\n",
    "            MRStep(\n",
    "                mapper=self.mapper \n",
    "                ,reducer=self.reducer\n",
    "            )\n",
    "        ]\n",
    "    def mapper(self, _, line):\n",
    "        row = line.split(',')\n",
    "        brand = row[5]\n",
    "        date = row[0].split()[0]\n",
    "        if (brand =='apple'):\n",
    "            yield date, 1        \n",
    "            \n",
    "    def reducer(self, date, count):\n",
    "        yield date, sum(count)\n",
    "\n",
    "if __name__ == '__main__':\n",
    "    MapperReducer.run()"
   ]
  },
  {
   "cell_type": "code",
   "execution_count": 15,
   "id": "1f86d94f-014b-4a88-bf8a-93248a012182",
   "metadata": {},
   "outputs": [
    {
     "name": "stdout",
     "output_type": "stream",
     "text": [
      "No configs found; falling back on auto-configuration\n",
      "No configs specified for inline runner\n",
      "Creating temp directory /tmp/apple_views.jovyan.20221220.135505.584545\n",
      "Running step 1 of 1...\n",
      "job output is in /tmp/apple_views.jovyan.20221220.135505.584545/output\n",
      "Streaming final output from /tmp/apple_views.jovyan.20221220.135505.584545/output...\n",
      "Removing temp directory /tmp/apple_views.jovyan.20221220.135505.584545...\n"
     ]
    }
   ],
   "source": [
    "! python ~/customer_behaviour/mrjobs/apple_views.py sample.csv > ~/customer_behaviour/mrjobs/output/output_3_1.txt"
   ]
  },
  {
   "cell_type": "code",
   "execution_count": 16,
   "id": "60e015a0-8c0c-4014-b9db-670a771c83da",
   "metadata": {},
   "outputs": [
    {
     "name": "stdout",
     "output_type": "stream",
     "text": [
      "Writing /home/jovyan/customer_behaviour/mrjobs/samsung_views.py\n"
     ]
    }
   ],
   "source": [
    "%%file ~/customer_behaviour/mrjobs/samsung_views.py\n",
    "from mrjob.job import MRJob\n",
    "from mrjob.step import MRStep\n",
    "\n",
    "class MapperReducer(MRJob):\n",
    "    MRJob.SORT_VALUES = True\n",
    "    def steps(self):\n",
    "        return [\n",
    "            MRStep(\n",
    "                mapper=self.mapper \n",
    "                ,reducer=self.reducer\n",
    "            )\n",
    "        ]\n",
    "    def mapper(self, _, line):\n",
    "        row = line.split(',')\n",
    "        brand = row[5]\n",
    "        date = row[0].split()[0]\n",
    "        if (brand =='samsung'):\n",
    "            yield date, 1        \n",
    "            \n",
    "    def reducer(self, date, count):\n",
    "        yield date, sum(count)\n",
    "\n",
    "if __name__ == '__main__':\n",
    "    MapperReducer.run()"
   ]
  },
  {
   "cell_type": "code",
   "execution_count": 17,
   "id": "cd8c038d-3f3b-4450-923c-6efc8dce5c28",
   "metadata": {},
   "outputs": [
    {
     "name": "stdout",
     "output_type": "stream",
     "text": [
      "No configs found; falling back on auto-configuration\n",
      "No configs specified for inline runner\n",
      "Creating temp directory /tmp/samsung_views.jovyan.20221220.135507.310499\n",
      "Running step 1 of 1...\n",
      "job output is in /tmp/samsung_views.jovyan.20221220.135507.310499/output\n",
      "Streaming final output from /tmp/samsung_views.jovyan.20221220.135507.310499/output...\n",
      "Removing temp directory /tmp/samsung_views.jovyan.20221220.135507.310499...\n"
     ]
    }
   ],
   "source": [
    "! python ~/customer_behaviour/mrjobs/samsung_views.py sample.csv > ~/customer_behaviour/mrjobs/output/output_3_2.txt"
   ]
  },
  {
   "cell_type": "markdown",
   "id": "8707405d-70c5-42bb-9f73-e80d067d4691",
   "metadata": {},
   "source": [
    "## Exercise 04 \n",
    "\n",
    "`suppliers.txt` file includes 20 brands and its supplier codes which managemenet requires to further analyse. Using `mrjob` package, create a mapreduce program to join `suppliers.txt` with the `sample.txt` and calculate the total value of the suppliers."
   ]
  },
  {
   "cell_type": "code",
   "execution_count": 18,
   "id": "deee2b1b-0ec0-4ea3-bb45-b71a87bb2ed1",
   "metadata": {},
   "outputs": [
    {
     "name": "stdout",
     "output_type": "stream",
     "text": [
      "Writing /home/jovyan/customer_behaviour/mrjobs/reduce_join.py\n"
     ]
    }
   ],
   "source": [
    "%%file ~/customer_behaviour/mrjobs/reduce_join.py\n",
    "from mrjob.job import MRJob\n",
    "from mrjob.step import MRStep\n",
    "\n",
    "class InnerJoin(MRJob):\n",
    "\n",
    "    def mapper(self, _, line):\n",
    "        fields=line.split(',')\n",
    "        if len(fields) == 9:\n",
    "            join_key = fields[5]\n",
    "            try:\n",
    "                join_value = float(fields[6])\n",
    "            except ValueError:\n",
    "                b'skipping line'\n",
    "            else:\n",
    "                yield (join_key, ('T', join_value))\n",
    "            \n",
    "        elif len(fields) == 2: \n",
    "            join_key  = fields[0]\n",
    "            join_value = fields[1]\n",
    "            yield (join_key, ('M', join_value))\n",
    "            \n",
    "        else:\n",
    "            pass\n",
    "        \n",
    "    def reducer_join(self, key, values):\n",
    "        master_tuples = []\n",
    "        transactions_tuples = []\n",
    "\n",
    "        for value in values:\n",
    "            relation_symbol = value[0]\n",
    "            if relation_symbol == 'M': \n",
    "                master_tuples.append(value[1])\n",
    "            elif relation_symbol == 'T':\n",
    "                transactions_tuples.append(value[1])\n",
    "            else:\n",
    "                pass\n",
    "            \n",
    "        if len(master_tuples) > 0 and len(transactions_tuples) > 0:\n",
    "            for value in transactions_tuples:\n",
    "                yield (master_tuples[0], value)\n",
    "    \n",
    "    def reducer_sum(self, supplier, value):\n",
    "        yield(supplier, sum(value))\n",
    "        \n",
    "    def steps(self):\n",
    "        return [\n",
    "            MRStep(mapper=self.mapper\n",
    "                   ,reducer=self.reducer_join)\n",
    "            ,MRStep(reducer=self.reducer_sum)\n",
    "        ]\n",
    "if __name__ == '__main__':\n",
    "    InnerJoin.run()"
   ]
  },
  {
   "cell_type": "code",
   "execution_count": 19,
   "id": "686b51ec-206e-4260-8dc5-9de5fb80f508",
   "metadata": {},
   "outputs": [
    {
     "name": "stdout",
     "output_type": "stream",
     "text": [
      "No configs found; falling back on auto-configuration\n",
      "No configs specified for inline runner\n",
      "Creating temp directory /tmp/reduce_join.jovyan.20221220.135508.939617\n",
      "Running step 1 of 2...\n",
      "Running step 2 of 2...\n",
      "job output is in /tmp/reduce_join.jovyan.20221220.135508.939617/output\n",
      "Streaming final output from /tmp/reduce_join.jovyan.20221220.135508.939617/output...\n",
      "Removing temp directory /tmp/reduce_join.jovyan.20221220.135508.939617...\n"
     ]
    }
   ],
   "source": [
    "! python ~/customer_behaviour/mrjobs/reduce_join.py sample.csv suppliers.txt > ~/customer_behaviour/mrjobs/output/output_4_1.txt"
   ]
  }
 ],
 "metadata": {
  "kernelspec": {
   "display_name": "Python 3 (ipykernel)",
   "language": "python",
   "name": "python3"
  },
  "language_info": {
   "codemirror_mode": {
    "name": "ipython",
    "version": 3
   },
   "file_extension": ".py",
   "mimetype": "text/x-python",
   "name": "python",
   "nbconvert_exporter": "python",
   "pygments_lexer": "ipython3",
   "version": "3.9.13"
  }
 },
 "nbformat": 4,
 "nbformat_minor": 5
}
